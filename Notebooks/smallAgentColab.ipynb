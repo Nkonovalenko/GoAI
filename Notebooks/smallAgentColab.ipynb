{
  "nbformat": 4,
  "nbformat_minor": 0,
  "metadata": {
    "colab": {
      "name": "smallAgentColab.ipynb",
      "provenance": [],
      "collapsed_sections": []
    },
    "kernelspec": {
      "name": "python3",
      "display_name": "Python 3"
    },
    "language_info": {
      "name": "python"
    }
  },
  "cells": [
    {
      "cell_type": "markdown",
      "metadata": {
        "id": "wwfTLpcnMtlX"
      },
      "source": [
        "**Tensorflow with GPU**\n",
        "---\n",
        "\n",
        "\n",
        "\n",
        "As a college student, I rely on my laptop for everything. Unfortunately, the notebook version of the NVIDIA GeForce GTX 1050 does not support CUDA GPU acceleration for TensorFlow."
      ]
    }
  ]
}